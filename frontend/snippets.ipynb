{
 "cells": [
  {
   "cell_type": "code",
   "execution_count": null,
   "metadata": {
    "vscode": {
     "languageId": "javascript"
    }
   },
   "outputs": [],
   "source": [
    "import './App.css';\n",
    "\n",
    "function App() {\n",
    "  const name =<h1>testing</h1>;\n",
    "  const User=(props)=>{\n",
    "    return(\n",
    "      <div>\n",
    "        <h1>testing</h1>\n",
    "        <iframe width=\"600\" height=\"300\" src = {props.name} ></iframe>\n",
    "      </div>\n",
    "    )//https://www.youtube.com/watch?v=f55qeKGgB_M&t=1189s\n",
    "  }\n",
    "  //let i=0;\n",
    "  const data=[\n",
    "    {name:\"Sathvik\"},\n",
    "    {name:\"Random1\" },\n",
    "    {name:\"Random2\"}\n",
    "  ]\n",
    "  return (\n",
    "   \n",
    "    <div >\n",
    "      <User name=\"https://www.youtube.com/embed/f55qeKGgB_M\"/>\n",
    "      <User  name=\"https://www.youtube.com/embed/YAOIbHBEvi0 \"/>\n",
    "      \n",
    "      {data.map((user,key)=>{\n",
    "        return (\n",
    "          <Info name={user.name}/>\n",
    "        ); \n",
    "      })}\n",
    "    </div>\n",
    "  );\n",
    "  \n",
    "}\n",
    "const Info=(props)=>{\n",
    "  return (\n",
    "    <div>\n",
    "      <h2>{props.name}</h2>\n",
    "    </div>\n",
    "  )\n",
    "}\n"
   ]
  },
  {
   "cell_type": "code",
   "execution_count": null,
   "metadata": {
    "vscode": {
     "languageId": "javascript"
    }
   },
   "outputs": [],
   "source": [
    "import './App.css';\n",
    "\n",
    "function App() {\n",
    "  const name =<h1>testing</h1>;\n",
    "  const User=(props)=>{\n",
    "    return(\n",
    "      <div>\n",
    "        <h1>testing</h1>\n",
    "        <iframe width=\"600\" height=\"300\" src = {props.name} ></iframe>\n",
    "      </div>\n",
    "    )//https://www.youtube.com/watch?v=f55qeKGgB_M&t=1189s\n",
    "  }\n",
    "  let i=0;\n",
    "  const check =true ;\n",
    "  \n",
    "  return (\n",
    "   \n",
    "    <div >\n",
    "      <User name=\"https://www.youtube.com/embed/f55qeKGgB_M\"/>\n",
    "      <User  name=\"https://www.youtube.com/embed/YAOIbHBEvi0 \"/>\n",
    "      {check ?<button style={{color:\"green\"}}>NEXT</button>:\"Under 18\"}\n",
    "      \n",
    "    </div>\n",
    "  );\n",
    "  \n",
    "}\n",
    "\n",
    "\n"
   ]
  },
  {
   "cell_type": "code",
   "execution_count": null,
   "metadata": {
    "vscode": {
     "languageId": "javascript"
    }
   },
   "outputs": [],
   "source": [
    "import './App.css';\n",
    "import {useState} from \"react\";\n",
    "function App(){\n",
    "  const [data, setData]= useState(\"\")\n",
    "  const [list , setList ]= useState([])\n",
    "\n",
    "  function takedata(event){\n",
    "    setData(event.target.value)\n",
    "  }\n",
    "  function updatedata(){\n",
    "    setList([...list,data])\n",
    "  }\n",
    "  return (\n",
    "    <div>\n",
    "     <h1>ADD YOUR TO DO LIST </h1>\n",
    "     <input type=\"text\" onChange={takedata}/>\n",
    "     <button onClick={updatedata}>ADD</button>\n",
    "     {list.map((value)=>{\n",
    "      return <h1>{value}</h1>\n",
    "     })}\n",
    "    </div>\n",
    "  );\n",
    "}\n",
    " \n"
   ]
  },
  {
   "cell_type": "code",
   "execution_count": null,
   "metadata": {
    "vscode": {
     "languageId": "javascript"
    }
   },
   "outputs": [],
   "source": [
    "function App(){\n",
    "    const [data, setData]= useState(\"\")\n",
    "    const [list , setList ]= useState([])\n",
    "  \n",
    "    function takedata(event){\n",
    "      setData(event.target.value)\n",
    "    }\n",
    "    function updatedata(){\n",
    "      setList([...list,data])\n",
    "    }\n",
    "    return (\n",
    "      <div>\n",
    "       <h1>ADD YOUR TO DO LIST </h1>\n",
    "       <input type=\"text\" onChange={takedata}/>\n",
    "       <button onClick={updatedata}>ADD</button>\n",
    "       {list.map((value)=>{\n",
    "        return <h2>{value}</h2>\n",
    "       })}\n",
    "      </div>\n",
    "    );\n",
    "  }"
   ]
  },
  {
   "cell_type": "code",
   "execution_count": null,
   "metadata": {
    "vscode": {
     "languageId": "javascript"
    }
   },
   "outputs": [],
   "source": [
    "import React ,{useEffect, useState} from \"react\";\n",
    "import axios from \"axios\";\n",
    "import {Link} from \"react-router-dom\";\n",
    "function Tweet()\n",
    "{\n",
    "   useEffect(()=>{\n",
    "    fetchitems();\n",
    "   },[])\n",
    "   const [items,setItems]= useState([]);\n",
    "   \n",
    "   const fetchitems= async()=>{\n",
    "    const data = await axios.get(\"/tweets\");\n",
    "    const item = await data.data\n",
    "    console.log(item)\n",
    "    console.log(typeof(item))\n",
    "\n",
    "    //itemsdata.data[0]\n",
    "    setItems(item)\n",
    "   }\n",
    "    const name =<h1>testing</h1>;\n",
    "  const User=(props)=>{\n",
    "    return(\n",
    "      <div>\n",
    "        <h1>testing</h1>\n",
    "        <iframe width=\"600\" height=\"300\" src = {props.name} ></iframe>\n",
    "      </div>\n",
    "    )//https://www.youtube.com/watch?v=f55qeKGgB_M&t=1189s\n",
    "  }\n",
    "  let i=0;\n",
    "  const check =true ;\n",
    "  \n",
    "  return (\n",
    "   <section>\n",
    "   \n",
    "   \n",
    "   {\n",
    "    <div>\n",
    "    <h1>{items[\"name\"]}</h1>\n",
    "    <h1>{items[\"username\"]}</h1>\n",
    "    <h1>{items[\"msg\"]}</h1>\n",
    "  </div>\n",
    "   }\n",
    "\n",
    "    \n",
    "    </section>\n",
    "  );\n",
    "}\n",
    "export default Tweet;"
   ]
  },
  {
   "cell_type": "code",
   "execution_count": null,
   "metadata": {
    "vscode": {
     "languageId": "javascript"
    }
   },
   "outputs": [],
   "source": [
    "<div className=\"main\">\n",
    "<div className=\"left-container\">\n",
    "    <Editor\n",
    "    className=\"input-box\"\n",
    "        options={options}\n",
    "        height=\"calc(50vh - 50px)\"\n",
    "        width=\"100%\"\n",
    "        theme={userTheme}\n",
    "        language={userLang}\n",
    "        defaultLanguage=\"python\"\n",
    "        defaultValue=\"# Enter your code here\"\n",
    "        onChange={(value) => { setUserCode(value) }}\n",
    "    />\n",
    "    <button className=\"run-btn\" onClick={() => compile()}>\n",
    "        Run\n",
    "    </button>\n",
    "</div>\n",
    "<div className=\"right-container\">\n",
    "    <h2>Input:</h2>\n",
    "    <div className=\"input-box\">\n",
    "        <textarea id=\"code-inp\" onChange=\n",
    "            {(e) => setUserInput(e.target.value)}>\n",
    "        </textarea>\n",
    "    </div>\n",
    "    <h4>Output:</h4>\n",
    "    {loading ? (\n",
    "        <div className=\"spinner-box\">\n",
    "            <img src={require=(\"./images/thumb-7.png\")} alt=\"Loading...\" />\n",
    "        </div>\n",
    "    ) : (\n",
    "        <div className=\"output-box\">\n",
    "            <pre>{userOutput}</pre>\n",
    "            <button onClick={() => { clearOutput() }}\n",
    "                className=\"clear-btn\">\n",
    "                Clear\n",
    "            </button>\n",
    "        </div>\n",
    "    )}\n",
    "</div>\n",
    "</div>"
   ]
  },
  {
   "cell_type": "code",
   "execution_count": null,
   "metadata": {
    "vscode": {
     "languageId": "javascript"
    }
   },
   "outputs": [],
   "source": [
    "<div className=\"container\">\n",
    "      <div className=\"purple-box\"></div>\n",
    "      <div className=\"white-box1\" />\n",
    "      <div className=\"white-box2\" />\n",
    "      <button className=\"purple-bar1\" value=\"ut\">Questions</button>\n",
    "      <button className=\"purple-bar2\" >Test</button>\n",
    "      <button className=\"purple-bar3\" >Compiler</button>\n",
    "      <textarea className=\"gray-box1\" />\n",
    "      <div className=\"gray-box2\" />\n",
    "    </div>"
   ]
  },
  {
   "cell_type": "code",
   "execution_count": null,
   "metadata": {
    "vscode": {
     "languageId": "javascript"
    }
   },
   "outputs": [],
   "source": [
    "<div style={{width: '100%', height: '100%', position: 'relative', background: 'white'}}>\n",
    "<div style={{width: 1411, height: 747, left: 12, top: 238, position: 'absolute', background: 'rgba(188, 19, 254, 0.68)', borderRadius: 22}} />\n",
    "<div style={{width: 1361, height: 49, left: 37, top: 251, position: 'absolute', background: 'white', borderRadius: 22}} />\n",
    "<textarea style={{width: 550, height: 658, left: 25, top: 316, position: 'absolute', background: 'white', borderRadius: 2}} value={resultText}\n",
    "            placeholder=\"Your PDF text will appear here...\"\n",
    "            readOnly />\n",
    "<textarea style={{width: 550, height: 658, left: 590, top: 316, position: 'absolute', background: 'white', borderRadius: 2}} value={enhance}\n",
    "            placeholder=\"Enhanced summery will appear here...\"\n",
    "            readOnly/>\n",
    "<textarea style={{width: 254, height: 658, left: 1155, top: 316, position: 'absolute', background: 'white', borderRadius: 22}}  value={stack.map((message)=>{\n",
    "               return message+\"\\n\\n\"\n",
    "            })}\n",
    "            placeholder=\"Neil tells ...\"\n",
    "            readOnly/>\n",
    "<button  onClick={response} style={{width: 216, height: 58, left: 27, top: 157, position: 'absolute', background: 'rgba(188, 19, 254, 0.68)', borderRadius: 22}} >Button1</button>\n",
    "<input type=\"text\" style={{width: 239, height: 104, left: 1162, top: 811, position: 'absolute', background: 'white', borderRadius: 2, border: '1px rgba(0, 0, 0, 0.59) solid'}}\n",
    "           onChange={updatedata}/>\n",
    "<button  onClick={response} style={{width: 213, height: 29, left: 1175, top: 930, position: 'absolute', background: 'rgba(188, 19, 254, 0.68)', borderRadius: 22}} >Clarify!</button>\n",
    "<button  style={{width: 223.02, height: 0, left: 1170, top: 790, position: 'absolute', border: '1px rgba(0, 0, 0, 0.59) solid'}}>Type Here</button>\n",
    "<button style={{width: 216, height: 58, left: 309, top: 157, position: 'absolute', background: 'rgba(188, 19, 254, 0.68)', borderRadius: 22}} >Button 2</button>\n",
    "<button style={{width: 216, height: 58, left: 591, top: 157, position: 'absolute', background: 'rgba(188, 19, 254, 0.68)', borderRadius: 22}} >Button 3</button>\n",
    "<button style={{width: 216, height: 58, left: 874, top: 157, position: 'absolute', background: 'rgba(188, 19, 254, 0.68)', borderRadius: 22}} >Button 4</button>\n",
    "<button style={{width: 216, height: 58, left: 1155, top: 157, position: 'absolute', background: 'rgba(188, 19, 254, 0.68)', borderRadius: 22}} >Button 5</button>\n",
    "<button style={{width: 125, height: 29, left: 1246.50, top: 261.50, position: 'absolute', background: 'rgba(188, 19, 254, 0.68)', borderRadius: 22}}   >Upload</button>\n",
    "<button style={{width: 125, height: 29, left: 53, top: 261, position: 'absolute', background: 'rgba(188, 19, 254, 0.68)', borderRadius: 22}}  type=\"file\" ref={inpFileRef}>Choose</button>\n",
    "<button  onClick={enhancetext} style={{width: 125, height: 29, left: 1005, top: 336, position: 'absolute', background: 'rgba(188, 19, 254, 0.68)', borderRadius: 22}}>Enhance</button>\n",
    "</div>\n"
   ]
  },
  {
   "cell_type": "code",
   "execution_count": null,
   "metadata": {
    "vscode": {
     "languageId": "javascript"
    }
   },
   "outputs": [],
   "source": [
    "\n",
    "<h1>Neil Explains ...</h1>\n",
    "<input type=\"file\" ref={inpFileRef} />\n",
    "<button type=\"button\" onClick={handleUpload}>Upload</button>\n",
    "<br />\n",
    "<br />\n",
    "<textarea\n",
    "    style={{ width: '344px', height: '500px' }}\n",
    "    value={resultText}\n",
    "    placeholder=\"Your PDF text will appear here...\"\n",
    "    readOnly\n",
    "/>\n",
    "\n",
    "\n",
    "\n",
    "<textarea\n",
    "    style={{ width: '344px', height: '500px' }}\n",
    "    value={enhance}\n",
    "    placeholder=\"Enhanced summery will appear here...\"\n",
    "    readOnly\n",
    "/>\n",
    "<button type=\"button\" onClick={enhancetext}>Enhance</button>\n",
    "\n",
    "\n",
    "\n",
    "\n",
    "<textarea\n",
    "    style={{ width: '344px', height: '500px' }}\n",
    "    value={stack.map((message)=>{\n",
    "       return message+\"\\n\\n\"\n",
    "    })}\n",
    "    placeholder=\"Neil tells ...\"\n",
    "    readOnly\n",
    "/>"
   ]
  },
  {
   "cell_type": "code",
   "execution_count": null,
   "metadata": {
    "vscode": {
     "languageId": "javascript"
    }
   },
   "outputs": [],
   "source": [
    "<meta charSet=\"UTF-8\" />\n",
    "  <meta httpEquiv=\"X-UA-Compatible\" content=\"IE=edge\" />\n",
    "  <meta name=\"viewport\" content=\"width=device-width, initial-scale=1.0\" />\n",
    "  \n",
    "  <div>\n",
    "       \n",
    "        <h1>Code</h1>\n",
    "        <textarea rows=\"25\" cols=\"200\" id=\"code\" name=\"code\" onChange={codeupdate}>type here </textarea>\n",
    "        <br />\n",
    "        <h1>Terminal</h1>\n",
    "        <textarea rows=\"9\" cols=\"200\" id=\"input\" name=\"input\" value={terminal}></textarea>\n",
    "        <br />\n",
    "        Language:<select name=\"lang\">\n",
    "            \n",
    "            <option value=\"Python\">Python</option>\n",
    "        </select>\n",
    "        Compile with Input:\n",
    "        <input type=\"radio\" name=\"inputRadio\" value=\"true\" />yes\n",
    "        <input type=\"radio\" name=\"inputRadio\" id=\"inputRadio\" value=\"false\" />No\n",
    "        <br />\n",
    "        \n",
    "        <button className=\"inline-btn\" type=\"button\" onClick={response}>compile</button>\n",
    "        \n",
    "        \n",
    "        \n",
    "        \n",
    "        <button className=\"inline-btn\" type=\"button\" onClick={ai}>Code Analysis </button>\n",
    "\n",
    "        \n",
    "        <textarea rows=\"2\" cols=\"100\" i onChange={customsg} >type custom msg here </textarea>\n",
    "        <button className=\"inline-btn\" type=\"button\" onClick={cusai}>Custom analysis</button>\n",
    "        <br></br>\n",
    "        <h2>AI analysis</h2>\n",
    "        <textarea\n",
    "                rows=\"20\" cols=\"200\" \n",
    "                value={revCode}\n",
    "                placeholder=\"custom  analysis \"\n",
    "                readOnly\n",
    "            />\n",
    "              <br></br>\n",
    "        \n",
    "     \n",
    "    </div>"
   ]
  }
 ],
 "metadata": {
  "language_info": {
   "name": "python"
  }
 },
 "nbformat": 4,
 "nbformat_minor": 2
}
